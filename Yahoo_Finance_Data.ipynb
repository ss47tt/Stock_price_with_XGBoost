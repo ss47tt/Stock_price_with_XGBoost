{
 "cells": [
  {
   "cell_type": "code",
   "execution_count": null,
   "id": "64060f7a",
   "metadata": {},
   "outputs": [
    {
     "name": "stderr",
     "output_type": "stream",
     "text": [
      "[*********************100%***********************]  1 of 1 completed"
     ]
    },
    {
     "name": "stdout",
     "output_type": "stream",
     "text": [
      "Cleaned data saved to nvda_daily_1year.csv\n"
     ]
    },
    {
     "name": "stderr",
     "output_type": "stream",
     "text": [
      "\n"
     ]
    }
   ],
   "source": [
    "import yfinance as yf\n",
    "import pandas as pd\n",
    "\n",
    "# Download data for NVDA\n",
    "data = yf.download('NVDA', period='1y', interval='1d')\n",
    "\n",
    "# Flatten the columns if they are a MultiIndex\n",
    "if isinstance(data.columns, pd.MultiIndex):\n",
    "    data.columns = data.columns.get_level_values(0)  # Get first level only\n",
    "\n",
    "# Reset index to move the date into a column\n",
    "data.reset_index(inplace=True)\n",
    "\n",
    "# Save clean CSV\n",
    "data.to_csv('NVDA_1d_1y.csv', index=False)\n",
    "\n",
    "print(\"Cleaned data saved to NVDA_1d_1y.csv\")"
   ]
  }
 ],
 "metadata": {
  "kernelspec": {
   "display_name": "py310",
   "language": "python",
   "name": "python3"
  },
  "language_info": {
   "codemirror_mode": {
    "name": "ipython",
    "version": 3
   },
   "file_extension": ".py",
   "mimetype": "text/x-python",
   "name": "python",
   "nbconvert_exporter": "python",
   "pygments_lexer": "ipython3",
   "version": "3.10.16"
  }
 },
 "nbformat": 4,
 "nbformat_minor": 5
}
